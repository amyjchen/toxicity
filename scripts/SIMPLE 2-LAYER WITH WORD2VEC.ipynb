{
 "cells": [
  {
   "cell_type": "code",
   "execution_count": 2,
   "metadata": {},
   "outputs": [
    {
     "name": "stderr",
     "output_type": "stream",
     "text": [
      "Using TensorFlow backend.\n"
     ]
    }
   ],
   "source": [
    "import csv\n",
    "import numpy as np\n",
    "import pandas as pd\n",
    "from copy import deepcopy\n",
    "from string import punctuation\n",
    "from random import shuffle\n",
    "import tensorflow as tf\n",
    "from keras.preprocessing.text import Tokenizer\n",
    "from keras.preprocessing.sequence import pad_sequences\n",
    "from keras.models import Sequential\n",
    "from keras.layers import Dense, Flatten, LSTM, Conv1D, MaxPooling1D, Dropout, Activation\n",
    "from keras.layers.embeddings import Embedding\n",
    "import nltk\n",
    "\n",
    "\n",
    "import gensim\n",
    "from gensim.models.word2vec import Word2Vec # the word2vec model gensim class\n",
    "LabeledSentence = gensim.models.doc2vec.LabeledSentence # we'll talk about this down below\n",
    "\n",
    "from tqdm import tqdm\n",
    "tqdm.pandas(desc=\"progress-bar\")\n",
    "\n",
    "from nltk.tokenize import TweetTokenizer # a tweet tokenizer from nltk.\n",
    "tokenizer = TweetTokenizer()\n",
    "\n",
    "from sklearn.model_selection import train_test_split\n",
    "from sklearn.feature_extraction.text import TfidfVectorizer\n",
    "\n",
    "filename = '../data/toxicity_only.csv'\n",
    "df = pd.read_csv(filename)"
   ]
  },
  {
   "cell_type": "markdown",
   "metadata": {},
   "source": [
    "### cleaning data"
   ]
  },
  {
   "cell_type": "code",
   "execution_count": 3,
   "metadata": {},
   "outputs": [],
   "source": [
    "train = df.sample(frac=0.9, random_state=200)\n",
    "test = df.drop(train.index)"
   ]
  },
  {
   "cell_type": "code",
   "execution_count": 4,
   "metadata": {},
   "outputs": [],
   "source": [
    "X_train = train.drop([\n",
    "    'target',\n",
    "    'severe_toxicity',\n",
    "    'obscene',\n",
    "    'identity_attack',\n",
    "    'insult', \n",
    "    'threat',\n",
    "    'toxicity_annotator_count'\n",
    "],axis = 1)\n",
    "X_test = test.drop([\n",
    "    'target',\n",
    "    'severe_toxicity',\n",
    "    'obscene',\n",
    "    'identity_attack',\n",
    "    'insult', \n",
    "    'threat',\n",
    "    'toxicity_annotator_count'\n",
    "],axis = 1)\n",
    "y_train = train.drop([\n",
    "    'comment_text',\n",
    "    'severe_toxicity',\n",
    "    'obscene',\n",
    "    'identity_attack',\n",
    "    'insult', \n",
    "    'threat',\n",
    "    'toxicity_annotator_count'\n",
    "],axis = 1)\n",
    "y_test = test.drop([\n",
    "    'comment_text',\n",
    "    'severe_toxicity',\n",
    "    'obscene',\n",
    "    'identity_attack',\n",
    "    'insult', \n",
    "    'threat',\n",
    "    'toxicity_annotator_count'\n",
    "],axis = 1)"
   ]
  },
  {
   "cell_type": "code",
   "execution_count": 5,
   "metadata": {},
   "outputs": [
    {
     "name": "stderr",
     "output_type": "stream",
     "text": [
      "progress-bar: 100%|██████████| 1624387/1624387 [11:20<00:00, 2387.06it/s]\n"
     ]
    }
   ],
   "source": [
    "X_train['comment_text'] = X_train['comment_text'].progress_map(lambda x: tokenizer.tokenize(x))"
   ]
  },
  {
   "cell_type": "code",
   "execution_count": 14,
   "metadata": {},
   "outputs": [],
   "source": [
    "n =len(X_train)\n",
    "X_train_tokens = np.array(X_train.head(n).comment_text)"
   ]
  },
  {
   "cell_type": "code",
   "execution_count": 15,
   "metadata": {},
   "outputs": [
    {
     "data": {
      "text/plain": [
       "1624387"
      ]
     },
     "execution_count": 15,
     "metadata": {},
     "output_type": "execute_result"
    }
   ],
   "source": [
    "len(X_train_tokens)"
   ]
  },
  {
   "cell_type": "code",
   "execution_count": 16,
   "metadata": {},
   "outputs": [
    {
     "name": "stderr",
     "output_type": "stream",
     "text": [
      "100%|██████████| 1624387/1624387 [00:01<00:00, 854959.04it/s]\n",
      "100%|██████████| 1624387/1624387 [00:01<00:00, 1009823.62it/s]\n"
     ]
    },
    {
     "data": {
      "text/plain": [
       "(716999094, 955367060)"
      ]
     },
     "execution_count": 16,
     "metadata": {},
     "output_type": "execute_result"
    }
   ],
   "source": [
    "n_dim = 200\n",
    "w2v = Word2Vec(size=n_dim, min_count=10)\n",
    "w2v.build_vocab([x for x in tqdm(X_train_tokens)])\n",
    "w2v.train([x for x in tqdm(X_train_tokens)], total_examples=n, epochs=10)"
   ]
  },
  {
   "cell_type": "code",
   "execution_count": 17,
   "metadata": {},
   "outputs": [
    {
     "name": "stderr",
     "output_type": "stream",
     "text": [
      "/Users/amyjchen/anaconda2/lib/python2.7/site-packages/ipykernel_launcher.py:1: DeprecationWarning: Call to deprecated `__getitem__` (Method will be removed in 4.0.0, use self.wv.__getitem__() instead).\n",
      "  \"\"\"Entry point for launching an IPython kernel.\n"
     ]
    },
    {
     "data": {
      "text/plain": [
       "array([ 0.77221704,  0.9134255 ,  0.59492433, -0.42243227, -0.9646467 ,\n",
       "        0.6077253 , -2.6252964 , -0.02229778,  1.2752267 , -2.565993  ,\n",
       "        1.4675399 ,  0.4642416 , -1.3165927 , -1.2640836 ,  2.07373   ,\n",
       "        0.44167107, -0.4946091 ,  2.670209  , -0.5604665 , -0.59328353,\n",
       "       -0.47719222, -1.1471121 , -0.33900547, -0.98537636, -1.5570396 ,\n",
       "        1.5371449 ,  1.603917  ,  2.3504314 , -0.4823531 , -1.0467993 ,\n",
       "        0.99557644,  3.571098  , -2.1509225 , -0.86523235, -1.3256255 ,\n",
       "        0.30106312,  0.07355017,  2.4655719 , -1.7510291 , -0.51174957,\n",
       "        1.7694045 ,  0.9420105 , -0.62883425, -1.561578  , -0.40257058,\n",
       "        1.6521319 , -0.6096398 ,  2.5896082 , -0.8107567 , -3.8858633 ,\n",
       "        0.51300037,  0.80678153, -0.36605254, -0.10122604, -0.08534582,\n",
       "        0.50588727,  0.8195502 ,  1.3798916 , -0.58301705, -0.44966882,\n",
       "        0.02430057,  0.72771955, -1.440054  ,  1.7068397 , -0.82584566,\n",
       "        1.3322213 , -0.7666941 ,  0.82119423,  0.83970606, -0.04369164,\n",
       "       -0.8875842 , -1.4493208 , -2.9537446 , -0.32413748, -1.3093357 ,\n",
       "        1.181982  , -0.00805729, -0.07060251,  2.7270453 , -0.16405012,\n",
       "        1.6650255 ,  2.2756314 , -0.8533438 , -0.0499055 , -0.34573463,\n",
       "        1.7664034 ,  0.47298926, -2.8621523 , -1.1489644 , -0.9648231 ,\n",
       "       -2.3092315 ,  0.99947894,  0.3057231 ,  0.10107157,  1.2561371 ,\n",
       "       -2.2304509 ,  2.4307563 ,  2.772462  ,  4.1714635 ,  1.448515  ,\n",
       "       -0.147396  ,  1.9762769 , -0.01589121, -0.09551819,  1.0444397 ,\n",
       "       -2.0965393 ,  0.5631735 ,  2.2647173 ,  0.92331636,  1.4183699 ,\n",
       "        0.35440508,  0.7313504 , -2.1491473 , -1.9634368 , -4.3364716 ,\n",
       "        0.19761136, -1.3289162 , -2.0158727 , -0.85863173, -0.55093247,\n",
       "       -1.7594545 ,  0.03504708,  0.1854897 ,  0.614211  , -0.02887657,\n",
       "        3.1344342 , -1.2857894 , -1.1159898 , -2.1477425 , -0.32373592,\n",
       "        2.6920853 ,  1.6380048 , -2.3670883 ,  0.47360605,  0.4470003 ,\n",
       "       -1.6745429 , -1.2545625 , -1.9416256 , -0.30687466,  2.2152913 ,\n",
       "        0.21119738, -1.629539  ,  0.30511048,  3.021698  , -0.81352663,\n",
       "        0.43729854,  0.01189469,  4.358361  , -2.0594676 ,  1.3191429 ,\n",
       "       -3.0146196 ,  1.6177673 , -2.3401852 , -0.29614502, -0.5495665 ,\n",
       "        1.6891888 ,  3.9321465 , -2.61165   ,  1.2453661 , -1.6141987 ,\n",
       "        0.16476773, -4.038478  , -1.9776201 ,  2.7718937 , -1.4166584 ,\n",
       "       -1.8673487 ,  0.19337426,  0.7338447 , -0.22799982, -0.24707165,\n",
       "       -0.57938075,  1.2881957 ,  0.09219798, -0.22992691, -0.6599533 ,\n",
       "        1.0484735 , -1.7148314 , -3.6487858 , -0.37351355,  0.24207987,\n",
       "        2.9457622 ,  2.9004526 ,  0.63979024,  3.079293  ,  1.8900808 ,\n",
       "       -1.3068205 , -2.1214485 , -3.973984  , -0.634099  , -1.9381995 ,\n",
       "        3.898135  , -1.0309645 , -1.5966066 ,  0.727809  , -2.4234214 ,\n",
       "       -0.08199271,  1.6398435 ,  0.2297741 ,  2.4285426 , -1.0712051 ],\n",
       "      dtype=float32)"
      ]
     },
     "execution_count": 17,
     "metadata": {},
     "output_type": "execute_result"
    }
   ],
   "source": [
    "w2v['good']"
   ]
  },
  {
   "cell_type": "code",
   "execution_count": 18,
   "metadata": {},
   "outputs": [
    {
     "name": "stderr",
     "output_type": "stream",
     "text": [
      "/Users/amyjchen/anaconda2/lib/python2.7/site-packages/ipykernel_launcher.py:1: DeprecationWarning: Call to deprecated `most_similar` (Method will be removed in 4.0.0, use self.wv.most_similar() instead).\n",
      "  \"\"\"Entry point for launching an IPython kernel.\n"
     ]
    },
    {
     "data": {
      "text/plain": [
       "[(u'President', 0.9081345200538635),\n",
       " (u'POTUS', 0.8816766738891602),\n",
       " (u'president-elect', 0.706447184085846),\n",
       " (u'prez', 0.6907306909561157),\n",
       " (u'leader', 0.6872978210449219),\n",
       " (u'pres', 0.6713271737098694),\n",
       " (u'governor', 0.655921995639801),\n",
       " (u'nominee', 0.653347373008728),\n",
       " (u'candidate', 0.6508815884590149),\n",
       " (u'potus', 0.6495429277420044)]"
      ]
     },
     "execution_count": 18,
     "metadata": {},
     "output_type": "execute_result"
    }
   ],
   "source": [
    "w2v.most_similar('president')"
   ]
  },
  {
   "cell_type": "code",
   "execution_count": 19,
   "metadata": {},
   "outputs": [
    {
     "name": "stdout",
     "output_type": "stream",
     "text": [
      "building tf-idf matrix ...\n",
      "vocab size : 83358\n"
     ]
    }
   ],
   "source": [
    "print 'building tf-idf matrix ...'\n",
    "vectorizer = TfidfVectorizer(analyzer=lambda x: x, min_df=10)\n",
    "matrix = vectorizer.fit_transform([x for x in X_train_tokens])\n",
    "tfidf = dict(zip(vectorizer.get_feature_names(), vectorizer.idf_))\n",
    "print 'vocab size :', len(tfidf)"
   ]
  },
  {
   "cell_type": "code",
   "execution_count": 20,
   "metadata": {},
   "outputs": [],
   "source": [
    "def buildWordVector(tokens, size):\n",
    "    vec = np.zeros(size).reshape((1, size))\n",
    "    count = 0.\n",
    "    for word in tokens:\n",
    "        try:\n",
    "            vec += w2v[word].reshape((1, size)) * tfidf[word]\n",
    "            count += 1.\n",
    "        except KeyError: # handling the case where the token is not\n",
    "                         # in the corpus. useful for testing.\n",
    "            continue\n",
    "    if count != 0:\n",
    "        vec /= count\n",
    "    return vec"
   ]
  },
  {
   "cell_type": "code",
   "execution_count": 21,
   "metadata": {},
   "outputs": [
    {
     "name": "stderr",
     "output_type": "stream",
     "text": [
      "  0%|          | 0/1624387 [00:00<?, ?it/s]/Users/amyjchen/anaconda2/lib/python2.7/site-packages/ipykernel_launcher.py:6: DeprecationWarning: Call to deprecated `__getitem__` (Method will be removed in 4.0.0, use self.wv.__getitem__() instead).\n",
      "  \n",
      "100%|██████████| 1624387/1624387 [1:03:39<00:00, 425.28it/s]  \n"
     ]
    }
   ],
   "source": [
    "from sklearn.preprocessing import scale\n",
    "train_vecs_w2v = np.concatenate([buildWordVector(z, n_dim) for z in tqdm(map(lambda x: x, X_train_tokens))])\n",
    "train_vecs_w2v = scale(train_vecs_w2v)"
   ]
  },
  {
   "cell_type": "code",
   "execution_count": 22,
   "metadata": {},
   "outputs": [
    {
     "data": {
      "text/plain": [
       "array([-1.17400155e+00, -3.81570811e-01,  2.60891827e-01, -1.02098346e+00,\n",
       "        1.70082224e-01, -4.96374635e-01, -3.65381386e-01, -1.49806016e-01,\n",
       "       -6.30619389e-01,  3.13260099e-01, -4.76071223e-01,  3.18817708e-01,\n",
       "        1.76434138e-01, -2.48037895e-02,  3.48019512e-01, -2.31588469e-01,\n",
       "        1.13180690e+00,  4.83743075e-01,  3.51787163e-01,  1.13378385e-01,\n",
       "        2.30597464e-01,  1.15528293e+00,  2.98077669e-01, -5.90046486e-01,\n",
       "       -3.84583609e-01,  2.36381215e-01,  3.99946601e-01, -4.13608675e-02,\n",
       "        5.94653190e-01, -3.05048930e-01,  8.70042554e-01,  9.50563352e-01,\n",
       "        1.11380462e+00, -1.41038623e-03,  3.26366872e-01, -2.09679700e-01,\n",
       "       -3.00376168e-02, -1.64077805e-01, -6.76065995e-01, -8.87663331e-01,\n",
       "       -1.04987177e-01,  7.86936690e-01, -8.10187931e-02, -2.05129554e-01,\n",
       "        1.40640866e+00, -7.78676971e-01,  9.28883623e-01, -1.06814729e+00,\n",
       "       -1.03899027e+00, -3.77826313e-01, -5.19614172e-02,  6.66152058e-01,\n",
       "       -4.09487148e-01,  7.74913160e-02, -5.68522034e-01,  6.03062784e-01,\n",
       "       -1.38379143e+00,  6.61386410e-01, -1.28548282e+00, -2.64160768e-01,\n",
       "       -7.05425881e-01, -5.34036147e-01,  3.59141083e-01, -5.60529568e-03,\n",
       "       -6.19419229e-01, -5.86333740e-01, -3.94022817e-01, -3.49797593e-01,\n",
       "        8.71960616e-01, -7.59549532e-01,  1.28963136e+00, -3.90176779e-01,\n",
       "        6.92495461e-02,  3.04851115e-01,  7.93595456e-02,  7.10203798e-01,\n",
       "        1.90243321e-01,  1.60350542e-01, -1.63524531e+00,  5.65632517e-01,\n",
       "       -4.32791401e-01,  1.11728535e+00,  1.12777104e+00,  1.01958123e+00,\n",
       "        5.96179393e-01, -6.72974742e-01,  1.16554353e+00, -1.89161926e+00,\n",
       "        6.68837463e-01,  6.07807192e-02, -4.78802431e-01, -2.57669691e-01,\n",
       "       -6.46038650e-01,  1.42717086e-01,  1.51801959e-01,  3.30838287e-01,\n",
       "        4.86035276e-01, -3.51346995e-01, -5.32322230e-01, -5.51158840e-01,\n",
       "        9.09697602e-01,  7.74422163e-01,  4.22440465e-01,  5.48358718e-01,\n",
       "        1.05720343e-01, -7.57928223e-01, -8.43778357e-01,  4.24967609e-01,\n",
       "       -1.32591642e+00,  6.72374952e-01, -6.58617121e-02, -5.80486327e-01,\n",
       "       -8.00525001e-01,  1.07492220e+00, -6.60599752e-02, -2.58519561e-01,\n",
       "        4.31058882e-01, -6.30926701e-02, -4.68178365e-01, -8.67003319e-01,\n",
       "       -4.99800583e-01, -1.09543883e-01,  4.92899563e-01,  1.10673436e-01,\n",
       "       -2.90405765e-01, -1.62413598e+00,  4.58872252e-01,  4.37665030e-01,\n",
       "        8.13973792e-01, -9.58538396e-01,  5.64228209e-01, -6.25200905e-01,\n",
       "        7.97791076e-01,  1.17865822e+00,  3.50586281e-01, -3.18280585e-01,\n",
       "       -8.70253019e-01,  4.82320427e-01,  4.69296579e-01,  3.87460807e-01,\n",
       "       -4.09327900e-01, -8.19568584e-01, -2.65914350e-01, -1.68317542e-01,\n",
       "       -1.04218139e+00, -3.26489885e-01, -3.36155751e-01,  1.90704620e-01,\n",
       "       -7.39457907e-01,  5.06681560e-01, -6.23443942e-03,  5.24231846e-01,\n",
       "       -1.63113146e-01, -7.41750863e-01,  5.28326167e-01,  3.36329291e-01,\n",
       "       -5.67384480e-01,  5.42830963e-01, -2.70124130e-01,  2.69778063e-01,\n",
       "       -2.98081840e-01, -9.56057091e-02, -8.85289397e-01,  2.30960682e-01,\n",
       "        2.37996994e-01, -5.40351094e-01,  9.72700451e-01, -6.32480995e-01,\n",
       "        3.59012336e-01, -8.30706619e-02, -7.15083962e-02, -3.21300932e-01,\n",
       "       -1.11243531e-01, -2.78661482e-01,  1.24461972e+00,  7.74110940e-01,\n",
       "        1.52462394e-01, -1.59153646e-01, -2.90128204e-01, -8.36589679e-02,\n",
       "        2.83815664e-01,  1.12444125e+00, -2.99692626e-01,  6.51761670e-01,\n",
       "       -9.21148326e-01,  1.24121027e+00,  3.84641536e-01,  2.39253815e-01,\n",
       "       -4.66784992e-01,  1.96271599e-01, -4.06969575e-01, -1.00091140e-01,\n",
       "       -4.50482197e-01, -3.12644052e-01,  5.50562665e-01, -7.33288238e-01,\n",
       "        4.20782541e-01,  3.58173793e-01, -8.26803325e-01,  4.47508671e-01])"
      ]
     },
     "execution_count": 22,
     "metadata": {},
     "output_type": "execute_result"
    }
   ],
   "source": [
    "train_vecs_w2v[0]"
   ]
  },
  {
   "cell_type": "markdown",
   "metadata": {},
   "source": [
    "### predicting using a simple relu and sigmoid"
   ]
  },
  {
   "cell_type": "code",
   "execution_count": 29,
   "metadata": {},
   "outputs": [
    {
     "name": "stdout",
     "output_type": "stream",
     "text": [
      "Train on 1461948 samples, validate on 162439 samples\n",
      "Epoch 1/10\n",
      "1461948/1461948 [==============================] - 45s 31us/sample - loss: 0.1956 - accuracy: 0.9292 - val_loss: 0.1918 - val_accuracy: 0.9301\n",
      "Epoch 2/10\n",
      "1461948/1461948 [==============================] - 46s 31us/sample - loss: 0.1885 - accuracy: 0.9314 - val_loss: 0.1911 - val_accuracy: 0.9307\n",
      "Epoch 3/10\n",
      "1461948/1461948 [==============================] - 45s 31us/sample - loss: 0.1864 - accuracy: 0.9321 - val_loss: 0.1888 - val_accuracy: 0.9316\n",
      "Epoch 4/10\n",
      "1461948/1461948 [==============================] - 45s 31us/sample - loss: 0.1852 - accuracy: 0.9326 - val_loss: 0.1890 - val_accuracy: 0.9312\n",
      "Epoch 5/10\n",
      "1461948/1461948 [==============================] - 45s 31us/sample - loss: 0.1845 - accuracy: 0.9329 - val_loss: 0.1883 - val_accuracy: 0.9316\n",
      "Epoch 6/10\n",
      "1461948/1461948 [==============================] - 45s 31us/sample - loss: 0.1839 - accuracy: 0.9331 - val_loss: 0.1887 - val_accuracy: 0.9317\n",
      "Epoch 7/10\n",
      "1461948/1461948 [==============================] - 47s 32us/sample - loss: 0.1835 - accuracy: 0.9333 - val_loss: 0.1889 - val_accuracy: 0.9317\n",
      "Epoch 8/10\n",
      "1461948/1461948 [==============================] - 46s 31us/sample - loss: 0.1832 - accuracy: 0.9334 - val_loss: 0.1892 - val_accuracy: 0.9312\n",
      "Epoch 9/10\n",
      "1461948/1461948 [==============================] - 54s 37us/sample - loss: 0.1829 - accuracy: 0.9334 - val_loss: 0.1886 - val_accuracy: 0.9313\n",
      "Epoch 10/10\n",
      "1461948/1461948 [==============================] - 51s 35us/sample - loss: 0.1826 - accuracy: 0.9335 - val_loss: 0.1890 - val_accuracy: 0.9316\n"
     ]
    },
    {
     "data": {
      "text/plain": [
       "<tensorflow.python.keras.callbacks.History at 0x1a70b67490>"
      ]
     },
     "execution_count": 29,
     "metadata": {},
     "output_type": "execute_result"
    }
   ],
   "source": [
    "from tensorflow.keras import layers\n",
    "\n",
    "y_train_tokens = np.array(y_train.head(n).target)\n",
    "y_train_tokens = np.where(y_train['target'] >= 0.5, 1, 0)\n",
    "\n",
    "model = tf.keras.Sequential()\n",
    "model.add(layers.Dense(32, activation='relu', input_dim=200))\n",
    "model.add(layers.Dense(1, activation='sigmoid'))\n",
    "model.compile(optimizer='adam',\n",
    "              loss='binary_crossentropy',\n",
    "              metrics=['accuracy'])\n",
    "\n",
    "model.fit(train_vecs_w2v, y_train_tokens, validation_split=0.1, epochs=10, batch_size=32, verbose=1)"
   ]
  },
  {
   "cell_type": "code",
   "execution_count": 30,
   "metadata": {},
   "outputs": [],
   "source": [
    "X_test_tokens = np.array(X_test.head(n).comment_text)"
   ]
  },
  {
   "cell_type": "code",
   "execution_count": 31,
   "metadata": {},
   "outputs": [
    {
     "name": "stderr",
     "output_type": "stream",
     "text": [
      "  0%|          | 0/180487 [00:00<?, ?it/s]/Users/amyjchen/anaconda2/lib/python2.7/site-packages/ipykernel_launcher.py:6: DeprecationWarning: Call to deprecated `__getitem__` (Method will be removed in 4.0.0, use self.wv.__getitem__() instead).\n",
      "  \n",
      "  0%|          | 217/180487 [00:01<20:23, 147.34it/s]/Users/amyjchen/anaconda2/lib/python2.7/site-packages/gensim/models/keyedvectors.py:453: UnicodeWarning: Unicode equal comparison failed to convert both arguments to Unicode - interpreting them as being unequal\n",
      "  if word in self.vocab:\n",
      "100%|██████████| 180487/180487 [13:50<00:00, 217.33it/s]\n"
     ]
    }
   ],
   "source": [
    "test_vecs_w2v = np.concatenate([buildWordVector(z, n_dim) for z in tqdm(map(lambda x: x, X_test_tokens))])\n",
    "test_vecs_w2v = scale(test_vecs_w2v)"
   ]
  },
  {
   "cell_type": "code",
   "execution_count": 33,
   "metadata": {},
   "outputs": [],
   "source": [
    "y_test_tokens = np.array(y_test.head(n).target)\n",
    "y_test_tokens = np.where(y_test['target'] >= 0.5, 1, 0)"
   ]
  },
  {
   "cell_type": "code",
   "execution_count": 36,
   "metadata": {},
   "outputs": [
    {
     "name": "stdout",
     "output_type": "stream",
     "text": [
      "180487/180487 [==============================] - 81s 448us/sample - loss: 0.3842 - accuracy: 0.9089\n"
     ]
    },
    {
     "data": {
      "text/plain": [
       "[0.3841848376119202, 0.90890205]"
      ]
     },
     "execution_count": 36,
     "metadata": {},
     "output_type": "execute_result"
    }
   ],
   "source": [
    "model.evaluate(test_vecs_w2v, y_test_tokens, batch_size=1, verbose=1)"
   ]
  },
  {
   "cell_type": "code",
   "execution_count": 148,
   "metadata": {},
   "outputs": [
    {
     "name": "stdout",
     "output_type": "stream",
     "text": [
      "1000000/1000000 [==============================] - 9s 9us/step\n"
     ]
    }
   ],
   "source": [
    "predictions = model.predict(train_vecs_w2v, batch_size=32, verbose=1)"
   ]
  },
  {
   "cell_type": "code",
   "execution_count": 150,
   "metadata": {},
   "outputs": [
    {
     "data": {
      "text/plain": [
       "array([[0.10550284],\n",
       "       [0.10020366],\n",
       "       [0.15637097],\n",
       "       [0.05361888],\n",
       "       [0.09228337],\n",
       "       [0.01896101],\n",
       "       [0.08856001],\n",
       "       [0.13741252],\n",
       "       [0.107575  ],\n",
       "       [0.14846838],\n",
       "       [0.13224417],\n",
       "       [0.0775145 ],\n",
       "       [0.12619272],\n",
       "       [0.09744084],\n",
       "       [0.14715275],\n",
       "       [0.08488065],\n",
       "       [0.09309408],\n",
       "       [0.07384944],\n",
       "       [0.06016546],\n",
       "       [0.16639474],\n",
       "       [0.07065225],\n",
       "       [0.24587655],\n",
       "       [0.20288125],\n",
       "       [0.04723823],\n",
       "       [0.05556503],\n",
       "       [0.07717627],\n",
       "       [0.14939386],\n",
       "       [0.14545235],\n",
       "       [0.08786052],\n",
       "       [0.06645051],\n",
       "       [0.10472992],\n",
       "       [0.09580493],\n",
       "       [0.08110386],\n",
       "       [0.10877705],\n",
       "       [0.14006767],\n",
       "       [0.10075536],\n",
       "       [0.12203959],\n",
       "       [0.14293498],\n",
       "       [0.15352672],\n",
       "       [0.05373228],\n",
       "       [0.19092345],\n",
       "       [0.2906788 ],\n",
       "       [0.08364666],\n",
       "       [0.03538153],\n",
       "       [0.06459513],\n",
       "       [0.0977957 ],\n",
       "       [0.07322899],\n",
       "       [0.05495703],\n",
       "       [0.08223757],\n",
       "       [0.0589588 ],\n",
       "       [0.08988604],\n",
       "       [0.18226454],\n",
       "       [0.108922  ],\n",
       "       [0.07768333],\n",
       "       [0.07641673],\n",
       "       [0.09331301],\n",
       "       [0.09505117],\n",
       "       [0.08348635],\n",
       "       [0.13201854],\n",
       "       [0.12228274],\n",
       "       [0.1339286 ],\n",
       "       [0.1846827 ],\n",
       "       [0.06412143],\n",
       "       [0.11324126],\n",
       "       [0.13014153],\n",
       "       [0.14023578],\n",
       "       [0.11066324],\n",
       "       [0.07686672],\n",
       "       [0.19227919],\n",
       "       [0.06791756],\n",
       "       [0.03031936],\n",
       "       [0.05003133],\n",
       "       [0.03633717],\n",
       "       [0.1129283 ],\n",
       "       [0.04713291],\n",
       "       [0.08475357],\n",
       "       [0.07759044],\n",
       "       [0.13313985],\n",
       "       [0.12103504],\n",
       "       [0.16857815],\n",
       "       [0.07361555],\n",
       "       [0.12205243],\n",
       "       [0.09560215],\n",
       "       [0.04779568],\n",
       "       [0.06767347],\n",
       "       [0.1018312 ],\n",
       "       [0.13177428],\n",
       "       [0.07143298],\n",
       "       [0.08475998],\n",
       "       [0.06555608],\n",
       "       [0.09771582],\n",
       "       [0.07693344],\n",
       "       [0.04857802],\n",
       "       [0.07953593],\n",
       "       [0.07924694],\n",
       "       [0.05139729],\n",
       "       [0.02561697],\n",
       "       [0.12827921],\n",
       "       [0.11798874],\n",
       "       [0.09496436]], dtype=float32)"
      ]
     },
     "execution_count": 150,
     "metadata": {},
     "output_type": "execute_result"
    }
   ],
   "source": [
    "predictions[0:100]"
   ]
  }
 ],
 "metadata": {
  "kernelspec": {
   "display_name": "Python 2",
   "language": "python",
   "name": "python2"
  },
  "language_info": {
   "codemirror_mode": {
    "name": "ipython",
    "version": 2
   },
   "file_extension": ".py",
   "mimetype": "text/x-python",
   "name": "python",
   "nbconvert_exporter": "python",
   "pygments_lexer": "ipython2",
   "version": "2.7.15"
  }
 },
 "nbformat": 4,
 "nbformat_minor": 2
}
